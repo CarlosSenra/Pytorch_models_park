{
 "cells": [
  {
   "cell_type": "code",
   "execution_count": 6,
   "metadata": {},
   "outputs": [],
   "source": [
    "import pandas as pd\n",
    "import numpy as np\n",
    "import random\n",
    "import os\n",
    "import functions_data_transformation as functions"
   ]
  },
  {
   "cell_type": "code",
   "execution_count": 7,
   "metadata": {},
   "outputs": [
    {
     "data": {
      "text/plain": [
       "[93]"
      ]
     },
     "execution_count": 7,
     "metadata": {},
     "output_type": "execute_result"
    }
   ],
   "source": [
    "weather_hourly = pd.read_csv(os.getcwd() + '\\\\' + 'weather_hourly_darksky.csv')\n",
    "weather_hourly.time = pd.to_datetime(weather_hourly.time)\n",
    "weather = weather_hourly[['time','temperature','windSpeed','precipType','icon','summary']]\n",
    "\n",
    "block_numbers_list = functions.get_random_blocks(num_blocks = 1, seed=84)\n",
    "block_numbers_list"
   ]
  },
  {
   "cell_type": "code",
   "execution_count": 8,
   "metadata": {},
   "outputs": [
    {
     "ename": "AttributeError",
     "evalue": "module 'functions_data_transformation' has no attribute 'add_weekend_holidays'",
     "output_type": "error",
     "traceback": [
      "\u001b[1;31m---------------------------------------------------------------------------\u001b[0m",
      "\u001b[1;31mAttributeError\u001b[0m                            Traceback (most recent call last)",
      "Cell \u001b[1;32mIn[8], line 6\u001b[0m\n\u001b[0;32m      4\u001b[0m df_block_weather \u001b[38;5;241m=\u001b[39m functions\u001b[38;5;241m.\u001b[39madd_weater_data(df_block,weather)\n\u001b[0;32m      5\u001b[0m df_block_weather \u001b[38;5;241m=\u001b[39m functions\u001b[38;5;241m.\u001b[39madd_bool_weather_missing_values(df_block_weather)\n\u001b[1;32m----> 6\u001b[0m df_holidays \u001b[38;5;241m=\u001b[39m \u001b[43mfunctions\u001b[49m\u001b[38;5;241;43m.\u001b[39;49m\u001b[43madd_weekend_holidays\u001b[49m(df_block_weather)\n\u001b[0;32m      8\u001b[0m blocks, dict_labels \u001b[38;5;241m=\u001b[39m functions\u001b[38;5;241m.\u001b[39mfeature_eng_function(df_holidays)\n\u001b[0;32m      9\u001b[0m blocks \u001b[38;5;241m=\u001b[39m blocks\u001b[38;5;241m.\u001b[39mreset_index(drop\u001b[38;5;241m=\u001b[39m\u001b[38;5;28;01mTrue\u001b[39;00m)\u001b[38;5;241m.\u001b[39mreset_index()\n",
      "\u001b[1;31mAttributeError\u001b[0m: module 'functions_data_transformation' has no attribute 'add_weekend_holidays'"
     ]
    }
   ],
   "source": [
    "for num in block_numbers_list:\n",
    "        df, house_select = functions.get_random_household(block_numer = num , seed = 42)\n",
    "        df_block = functions.transform_half_in_hourly(df)\n",
    "        df_block_weather = functions.add_weater_data(df_block,weather)\n",
    "        df_block_weather = functions.add_bool_weather_missing_values(df_block_weather)\n",
    "        df_holidays = functions.add_weekend_holidays(df_block_weather)\n",
    "\n",
    "        blocks, dict_labels = functions.feature_eng_function(df_holidays)\n",
    "        blocks = blocks.reset_index(drop=True).reset_index()\n",
    "        blocks = blocks.rename(columns={'index':'time_idx'})\n",
    "        blocks = blocks.drop(columns='time')\n",
    "\n",
    "        functions.save_json(dict_labels,house_select)\n",
    "        blocks.to_csv(f'dataframe_model\\{house_select}.csv',index=False)"
   ]
  },
  {
   "cell_type": "code",
   "execution_count": null,
   "metadata": {},
   "outputs": [],
   "source": [
    "info_dataset = pd.read_csv('informations_households.csv')"
   ]
  },
  {
   "cell_type": "code",
   "execution_count": 9,
   "metadata": {},
   "outputs": [],
   "source": [
    "acorn_dict = {'luxuryLife' : ['ACORN-A', 'ACORN-B', 'ACORN-C'],\n",
    "                'establishedAffluence' : ['ACORN-D', 'ACORN-E'],\n",
    "                'thrivingNeighbour' : ['ACORN-F', 'ACORN-G', 'ACORN-H', 'ACORN-I', 'ACORN-J'],\n",
    "                'steadfastCommunities' : ['ACORN-K','ACORN-L', 'ACORN-M', 'ACORN-N', 'ACORN-O'],\n",
    "                'stretchedSociety' : ['ACORN-P', 'ACORN-Q'],\n",
    "                'lowIncomeLiving' : ['ACORN-U']}"
   ]
  },
  {
   "cell_type": "code",
   "execution_count": 10,
   "metadata": {},
   "outputs": [],
   "source": [
    "luxury_life = ['ACORN-A', 'ACORN-B', 'ACORN-C']\n",
    "established_affluence = ['ACORN-D', 'ACORN-E']\n",
    "thriving_neighbour = ['ACORN-F', 'ACORN-G', 'ACORN-H', 'ACORN-I', 'ACORN-J']\n",
    "steadfast_communities = ['ACORN-K','ACORN-L', 'ACORN-M', 'ACORN-N', 'ACORN-O']\n",
    "stretched_society = ['ACORN-P', 'ACORN-Q']\n",
    "low_income_living = ['ACORN-U']\n"
   ]
  },
  {
   "cell_type": "code",
   "execution_count": 11,
   "metadata": {},
   "outputs": [
    {
     "ename": "NameError",
     "evalue": "name 'info_dataset' is not defined",
     "output_type": "error",
     "traceback": [
      "\u001b[1;31m---------------------------------------------------------------------------\u001b[0m",
      "\u001b[1;31mNameError\u001b[0m                                 Traceback (most recent call last)",
      "Cell \u001b[1;32mIn[11], line 3\u001b[0m\n\u001b[0;32m      1\u001b[0m np\u001b[38;5;241m.\u001b[39mrandom\u001b[38;5;241m.\u001b[39mseed(\u001b[38;5;241m10\u001b[39m)\n\u001b[0;32m      2\u001b[0m \u001b[38;5;28;01mfor\u001b[39;00m key \u001b[38;5;129;01min\u001b[39;00m acorn_dict\u001b[38;5;241m.\u001b[39mkeys():\n\u001b[1;32m----> 3\u001b[0m     \u001b[38;5;28mprint\u001b[39m(\u001b[43minfo_dataset\u001b[49m[info_dataset\u001b[38;5;241m.\u001b[39mAcorn\u001b[38;5;241m.\u001b[39misin(acorn_dict[key])]\u001b[38;5;241m.\u001b[39mAcorn\u001b[38;5;241m.\u001b[39mvalue_counts())\n",
      "\u001b[1;31mNameError\u001b[0m: name 'info_dataset' is not defined"
     ]
    }
   ],
   "source": [
    "np.random.seed(10)\n",
    "for key in acorn_dict.keys():\n",
    "    print(info_dataset[info_dataset.Acorn.isin(acorn_dict[key])].Acorn.value_counts())"
   ]
  },
  {
   "cell_type": "code",
   "execution_count": 12,
   "metadata": {},
   "outputs": [],
   "source": [
    "def get_acorn_houses_list(acorn_dict,size=5,seed=10):\n",
    "    info_dataset = pd.read_csv(f'informations_households.csv')\n",
    "    np.random.seed(seed)\n",
    "    house_list = []\n",
    "    for key in acorn_dict.keys():\n",
    "        sample = info_dataset[info_dataset.Acorn.isin(acorn_dict[key])].sample(size)\n",
    "        for i in range(len(sample)):\n",
    "            house_list.append(key + '_' +  sample.iloc[i,-1] + '_' + sample.iloc[i,0])\n",
    "    \n",
    "    return house_list\n",
    "\n",
    "house_list = get_acorn_houses_list(acorn_dict,size=5,seed=10)"
   ]
  },
  {
   "cell_type": "code",
   "execution_count": 13,
   "metadata": {},
   "outputs": [
    {
     "name": "stdout",
     "output_type": "stream",
     "text": [
      "block_0 MAC003737\n",
      "block_5 MAC004664\n",
      "block_3 MAC004417\n",
      "block_6 MAC003349\n",
      "block_4 MAC003762\n",
      "block_37 MAC000861\n",
      "block_34 MAC002265\n",
      "block_21 MAC004531\n",
      "block_23 MAC004137\n",
      "block_22 MAC004736\n",
      "block_70 MAC000360\n",
      "block_50 MAC002586\n",
      "block_66 MAC003655\n",
      "block_69 MAC003784\n",
      "block_71 MAC002468\n",
      "block_88 MAC001727\n",
      "block_85 MAC003618\n",
      "block_75 MAC000343\n",
      "block_85 MAC002272\n",
      "block_89 MAC001380\n",
      "block_107 MAC001673\n",
      "block_107 MAC001672\n",
      "block_94 MAC000870\n",
      "block_109 MAC000529\n",
      "block_107 MAC002426\n",
      "block_111 MAC003860\n",
      "block_111 MAC004828\n",
      "block_110 MAC004069\n",
      "block_110 MAC003780\n",
      "block_110 MAC003977\n"
     ]
    }
   ],
   "source": [
    "for house in house_list:\n",
    "    block = house.split('_')[1] + '_' + house.split('_')[2]\n",
    "    house_selected = house.split('_')[-1]\n",
    "    print(block, house_selected)"
   ]
  },
  {
   "cell_type": "code",
   "execution_count": 22,
   "metadata": {},
   "outputs": [],
   "source": [
    "def get_household(house):\n",
    "    block = house.split('_')[1] + '_' + house.split('_')[2]\n",
    "    house_selected = house.split('_')[-1]\n",
    "    holidays = pd.read_csv('uk_bank_holidays.csv')\n",
    "    holidays['Bank holidays'] = pd.to_datetime(holidays['Bank holidays'])\n",
    "    holidays = holidays.loc[(holidays['Bank holidays'].dt.year >= 2013)]\n",
    "    df = pd.read_csv(f'halfhourly_dataset/halfhourly_dataset/{block}.csv')\n",
    "    df = df.rename(columns={'LCLid':'house_hold','tstp':'time','energy(kWh/hh)':'Energy_kwh'})\n",
    "    df.iloc[df[df.Energy_kwh == 'Null'].Energy_kwh.index,2] = '0'\n",
    "    df.Energy_kwh = pd.to_numeric(df.Energy_kwh)\n",
    "    df.time = pd.to_datetime(df.time)\n",
    "    df = df.loc[((df['time'].dt.year >= 2013) & (df.time.dt.month.isin([1,2,3,4,5,6,7,8,9,10,11,12]))) | (df['time'].dt.year == 2014)]\n",
    "    df['holiday'] = (df.time.dt.day_of_week >= 10) | (df['time'].isin(holidays['Bank holidays']))\n",
    "    df['holiday'] = df['holiday'].astype(int)\n",
    "    df = df[df.house_hold == house_selected]\n",
    "    \n",
    "    return df, house"
   ]
  },
  {
   "cell_type": "code",
   "execution_count": 23,
   "metadata": {},
   "outputs": [
    {
     "data": {
      "text/plain": [
       "(       house_hold                time  Energy_kwh  holiday\n",
       " 759511  MAC003737 2013-01-01 00:00:00       0.088        1\n",
       " 759512  MAC003737 2013-01-01 00:30:00       0.109        0\n",
       " 759513  MAC003737 2013-01-01 01:00:00       0.075        0\n",
       " 759514  MAC003737 2013-01-01 01:30:00       0.076        0\n",
       " 759515  MAC003737 2013-01-01 02:00:00       0.108        0\n",
       " ...           ...                 ...         ...      ...\n",
       " 779810  MAC003737 2014-02-27 22:00:00       0.063        0\n",
       " 779811  MAC003737 2014-02-27 22:30:00       0.046        0\n",
       " 779812  MAC003737 2014-02-27 23:00:00       0.086        0\n",
       " 779813  MAC003737 2014-02-27 23:30:00       0.047        0\n",
       " 779814  MAC003737 2014-02-28 00:00:00       0.083        0\n",
       " \n",
       " [20304 rows x 4 columns],\n",
       " 'luxuryLife_block_0_MAC003737')"
      ]
     },
     "execution_count": 23,
     "metadata": {},
     "output_type": "execute_result"
    }
   ],
   "source": [
    "df = get_household(house_list[0])\n",
    "df"
   ]
  },
  {
   "cell_type": "code",
   "execution_count": 16,
   "metadata": {},
   "outputs": [
    {
     "data": {
      "text/html": [
       "<div>\n",
       "<style scoped>\n",
       "    .dataframe tbody tr th:only-of-type {\n",
       "        vertical-align: middle;\n",
       "    }\n",
       "\n",
       "    .dataframe tbody tr th {\n",
       "        vertical-align: top;\n",
       "    }\n",
       "\n",
       "    .dataframe thead th {\n",
       "        text-align: right;\n",
       "    }\n",
       "</style>\n",
       "<table border=\"1\" class=\"dataframe\">\n",
       "  <thead>\n",
       "    <tr style=\"text-align: right;\">\n",
       "      <th></th>\n",
       "      <th>visibility</th>\n",
       "      <th>windBearing</th>\n",
       "      <th>temperature</th>\n",
       "      <th>time</th>\n",
       "      <th>dewPoint</th>\n",
       "      <th>pressure</th>\n",
       "      <th>apparentTemperature</th>\n",
       "      <th>windSpeed</th>\n",
       "      <th>precipType</th>\n",
       "      <th>icon</th>\n",
       "      <th>humidity</th>\n",
       "      <th>summary</th>\n",
       "    </tr>\n",
       "  </thead>\n",
       "  <tbody>\n",
       "    <tr>\n",
       "      <th>0</th>\n",
       "      <td>5.97</td>\n",
       "      <td>104</td>\n",
       "      <td>10.24</td>\n",
       "      <td>2011-11-11 00:00:00</td>\n",
       "      <td>8.86</td>\n",
       "      <td>1016.76</td>\n",
       "      <td>10.24</td>\n",
       "      <td>2.77</td>\n",
       "      <td>rain</td>\n",
       "      <td>partly-cloudy-night</td>\n",
       "      <td>0.91</td>\n",
       "      <td>Partly Cloudy</td>\n",
       "    </tr>\n",
       "    <tr>\n",
       "      <th>1</th>\n",
       "      <td>4.88</td>\n",
       "      <td>99</td>\n",
       "      <td>9.76</td>\n",
       "      <td>2011-11-11 01:00:00</td>\n",
       "      <td>8.83</td>\n",
       "      <td>1016.63</td>\n",
       "      <td>8.24</td>\n",
       "      <td>2.95</td>\n",
       "      <td>rain</td>\n",
       "      <td>partly-cloudy-night</td>\n",
       "      <td>0.94</td>\n",
       "      <td>Partly Cloudy</td>\n",
       "    </tr>\n",
       "    <tr>\n",
       "      <th>2</th>\n",
       "      <td>3.70</td>\n",
       "      <td>98</td>\n",
       "      <td>9.46</td>\n",
       "      <td>2011-11-11 02:00:00</td>\n",
       "      <td>8.79</td>\n",
       "      <td>1016.36</td>\n",
       "      <td>7.76</td>\n",
       "      <td>3.17</td>\n",
       "      <td>rain</td>\n",
       "      <td>partly-cloudy-night</td>\n",
       "      <td>0.96</td>\n",
       "      <td>Partly Cloudy</td>\n",
       "    </tr>\n",
       "    <tr>\n",
       "      <th>3</th>\n",
       "      <td>3.12</td>\n",
       "      <td>99</td>\n",
       "      <td>9.23</td>\n",
       "      <td>2011-11-11 03:00:00</td>\n",
       "      <td>8.63</td>\n",
       "      <td>1016.28</td>\n",
       "      <td>7.44</td>\n",
       "      <td>3.25</td>\n",
       "      <td>rain</td>\n",
       "      <td>fog</td>\n",
       "      <td>0.96</td>\n",
       "      <td>Foggy</td>\n",
       "    </tr>\n",
       "    <tr>\n",
       "      <th>4</th>\n",
       "      <td>1.85</td>\n",
       "      <td>111</td>\n",
       "      <td>9.26</td>\n",
       "      <td>2011-11-11 04:00:00</td>\n",
       "      <td>9.21</td>\n",
       "      <td>1015.98</td>\n",
       "      <td>7.24</td>\n",
       "      <td>3.70</td>\n",
       "      <td>rain</td>\n",
       "      <td>fog</td>\n",
       "      <td>1.00</td>\n",
       "      <td>Foggy</td>\n",
       "    </tr>\n",
       "    <tr>\n",
       "      <th>...</th>\n",
       "      <td>...</td>\n",
       "      <td>...</td>\n",
       "      <td>...</td>\n",
       "      <td>...</td>\n",
       "      <td>...</td>\n",
       "      <td>...</td>\n",
       "      <td>...</td>\n",
       "      <td>...</td>\n",
       "      <td>...</td>\n",
       "      <td>...</td>\n",
       "      <td>...</td>\n",
       "      <td>...</td>\n",
       "    </tr>\n",
       "    <tr>\n",
       "      <th>21160</th>\n",
       "      <td>12.68</td>\n",
       "      <td>247</td>\n",
       "      <td>7.39</td>\n",
       "      <td>2014-02-15 19:00:00</td>\n",
       "      <td>3.06</td>\n",
       "      <td>997.07</td>\n",
       "      <td>3.91</td>\n",
       "      <td>6.08</td>\n",
       "      <td>rain</td>\n",
       "      <td>partly-cloudy-night</td>\n",
       "      <td>0.74</td>\n",
       "      <td>Partly Cloudy</td>\n",
       "    </tr>\n",
       "    <tr>\n",
       "      <th>21161</th>\n",
       "      <td>13.78</td>\n",
       "      <td>249</td>\n",
       "      <td>6.56</td>\n",
       "      <td>2014-02-15 20:00:00</td>\n",
       "      <td>2.76</td>\n",
       "      <td>998.15</td>\n",
       "      <td>3.03</td>\n",
       "      <td>5.61</td>\n",
       "      <td>rain</td>\n",
       "      <td>clear-night</td>\n",
       "      <td>0.77</td>\n",
       "      <td>Clear</td>\n",
       "    </tr>\n",
       "    <tr>\n",
       "      <th>21162</th>\n",
       "      <td>14.31</td>\n",
       "      <td>248</td>\n",
       "      <td>6.47</td>\n",
       "      <td>2014-02-15 21:00:00</td>\n",
       "      <td>2.71</td>\n",
       "      <td>999.28</td>\n",
       "      <td>3.06</td>\n",
       "      <td>5.25</td>\n",
       "      <td>rain</td>\n",
       "      <td>clear-night</td>\n",
       "      <td>0.77</td>\n",
       "      <td>Clear</td>\n",
       "    </tr>\n",
       "    <tr>\n",
       "      <th>21163</th>\n",
       "      <td>14.31</td>\n",
       "      <td>248</td>\n",
       "      <td>5.96</td>\n",
       "      <td>2014-02-15 22:00:00</td>\n",
       "      <td>2.69</td>\n",
       "      <td>1000.33</td>\n",
       "      <td>2.68</td>\n",
       "      <td>4.69</td>\n",
       "      <td>rain</td>\n",
       "      <td>clear-night</td>\n",
       "      <td>0.80</td>\n",
       "      <td>Clear</td>\n",
       "    </tr>\n",
       "    <tr>\n",
       "      <th>21164</th>\n",
       "      <td>14.31</td>\n",
       "      <td>246</td>\n",
       "      <td>5.38</td>\n",
       "      <td>2014-02-15 23:00:00</td>\n",
       "      <td>2.60</td>\n",
       "      <td>1001.25</td>\n",
       "      <td>1.77</td>\n",
       "      <td>5.09</td>\n",
       "      <td>rain</td>\n",
       "      <td>clear-night</td>\n",
       "      <td>0.82</td>\n",
       "      <td>Clear</td>\n",
       "    </tr>\n",
       "  </tbody>\n",
       "</table>\n",
       "<p>21165 rows × 12 columns</p>\n",
       "</div>"
      ],
      "text/plain": [
       "       visibility  windBearing  temperature                 time  dewPoint  \\\n",
       "0            5.97          104        10.24  2011-11-11 00:00:00      8.86   \n",
       "1            4.88           99         9.76  2011-11-11 01:00:00      8.83   \n",
       "2            3.70           98         9.46  2011-11-11 02:00:00      8.79   \n",
       "3            3.12           99         9.23  2011-11-11 03:00:00      8.63   \n",
       "4            1.85          111         9.26  2011-11-11 04:00:00      9.21   \n",
       "...           ...          ...          ...                  ...       ...   \n",
       "21160       12.68          247         7.39  2014-02-15 19:00:00      3.06   \n",
       "21161       13.78          249         6.56  2014-02-15 20:00:00      2.76   \n",
       "21162       14.31          248         6.47  2014-02-15 21:00:00      2.71   \n",
       "21163       14.31          248         5.96  2014-02-15 22:00:00      2.69   \n",
       "21164       14.31          246         5.38  2014-02-15 23:00:00      2.60   \n",
       "\n",
       "       pressure  apparentTemperature  windSpeed precipType  \\\n",
       "0       1016.76                10.24       2.77       rain   \n",
       "1       1016.63                 8.24       2.95       rain   \n",
       "2       1016.36                 7.76       3.17       rain   \n",
       "3       1016.28                 7.44       3.25       rain   \n",
       "4       1015.98                 7.24       3.70       rain   \n",
       "...         ...                  ...        ...        ...   \n",
       "21160    997.07                 3.91       6.08       rain   \n",
       "21161    998.15                 3.03       5.61       rain   \n",
       "21162    999.28                 3.06       5.25       rain   \n",
       "21163   1000.33                 2.68       4.69       rain   \n",
       "21164   1001.25                 1.77       5.09       rain   \n",
       "\n",
       "                      icon  humidity        summary  \n",
       "0      partly-cloudy-night      0.91  Partly Cloudy  \n",
       "1      partly-cloudy-night      0.94  Partly Cloudy  \n",
       "2      partly-cloudy-night      0.96  Partly Cloudy  \n",
       "3                      fog      0.96          Foggy  \n",
       "4                      fog      1.00          Foggy  \n",
       "...                    ...       ...            ...  \n",
       "21160  partly-cloudy-night      0.74  Partly Cloudy  \n",
       "21161          clear-night      0.77          Clear  \n",
       "21162          clear-night      0.77          Clear  \n",
       "21163          clear-night      0.80          Clear  \n",
       "21164          clear-night      0.82          Clear  \n",
       "\n",
       "[21165 rows x 12 columns]"
      ]
     },
     "execution_count": 16,
     "metadata": {},
     "output_type": "execute_result"
    }
   ],
   "source": [
    "pd.read_csv(os.getcwd() + '\\\\' + 'weather_hourly_darksky.csv')"
   ]
  },
  {
   "cell_type": "code",
   "execution_count": 20,
   "metadata": {},
   "outputs": [
    {
     "ename": "AttributeError",
     "evalue": "'tuple' object has no attribute 'time'",
     "output_type": "error",
     "traceback": [
      "\u001b[1;31m---------------------------------------------------------------------------\u001b[0m",
      "\u001b[1;31mAttributeError\u001b[0m                            Traceback (most recent call last)",
      "Cell \u001b[1;32mIn[20], line 4\u001b[0m\n\u001b[0;32m      2\u001b[0m holidays[\u001b[38;5;124m'\u001b[39m\u001b[38;5;124mBank holidays\u001b[39m\u001b[38;5;124m'\u001b[39m] \u001b[38;5;241m=\u001b[39m pd\u001b[38;5;241m.\u001b[39mto_datetime(holidays[\u001b[38;5;124m'\u001b[39m\u001b[38;5;124mBank holidays\u001b[39m\u001b[38;5;124m'\u001b[39m])\n\u001b[0;32m      3\u001b[0m holidays \u001b[38;5;241m=\u001b[39m holidays\u001b[38;5;241m.\u001b[39mloc[(holidays[\u001b[38;5;124m'\u001b[39m\u001b[38;5;124mBank holidays\u001b[39m\u001b[38;5;124m'\u001b[39m]\u001b[38;5;241m.\u001b[39mdt\u001b[38;5;241m.\u001b[39myear \u001b[38;5;241m>\u001b[39m\u001b[38;5;241m=\u001b[39m \u001b[38;5;241m2013\u001b[39m)]\n\u001b[1;32m----> 4\u001b[0m df[\u001b[38;5;124m'\u001b[39m\u001b[38;5;124mholiday\u001b[39m\u001b[38;5;124m'\u001b[39m] \u001b[38;5;241m=\u001b[39m (\u001b[43mdf\u001b[49m\u001b[38;5;241;43m.\u001b[39;49m\u001b[43mtime\u001b[49m\u001b[38;5;241m.\u001b[39mdt\u001b[38;5;241m.\u001b[39mday_of_week \u001b[38;5;241m>\u001b[39m\u001b[38;5;241m=\u001b[39m \u001b[38;5;241m10\u001b[39m) \u001b[38;5;241m|\u001b[39m (df[\u001b[38;5;124m'\u001b[39m\u001b[38;5;124mtime\u001b[39m\u001b[38;5;124m'\u001b[39m]\u001b[38;5;241m.\u001b[39misin(holidays[\u001b[38;5;124m'\u001b[39m\u001b[38;5;124mBank holidays\u001b[39m\u001b[38;5;124m'\u001b[39m]))\n\u001b[0;32m      5\u001b[0m df[\u001b[38;5;124m'\u001b[39m\u001b[38;5;124mholiday\u001b[39m\u001b[38;5;124m'\u001b[39m] \u001b[38;5;241m=\u001b[39m df[\u001b[38;5;124m'\u001b[39m\u001b[38;5;124mholiday\u001b[39m\u001b[38;5;124m'\u001b[39m]\u001b[38;5;241m.\u001b[39mastype(\u001b[38;5;28mint\u001b[39m)\n\u001b[0;32m      6\u001b[0m df\n",
      "\u001b[1;31mAttributeError\u001b[0m: 'tuple' object has no attribute 'time'"
     ]
    }
   ],
   "source": [
    "holidays = pd.read_csv('uk_bank_holidays.csv')\n",
    "holidays['Bank holidays'] = pd.to_datetime(holidays['Bank holidays'])\n",
    "holidays = holidays.loc[(holidays['Bank holidays'].dt.year >= 2013)]\n",
    "df['holiday'] = (df.time.dt.day_of_week >= 10) | (df['time'].isin(holidays['Bank holidays']))\n",
    "df['holiday'] = df['holiday'].astype(int)\n",
    "df"
   ]
  },
  {
   "cell_type": "code",
   "execution_count": null,
   "metadata": {},
   "outputs": [],
   "source": [
    "['establishedAffluence_block_21_MAC004531.csv', 'establishedAffluence_block_22_MAC004736.csv', 'establishedAffluence_block_23_MAC004137.csv', \n",
    " 'establishedAffluence_block_34_MAC002265.csv', 'establishedAffluence_block_37_MAC000861.csv', 'lowIncomeLiving_block_110_MAC003780.csv', \n",
    " 'lowIncomeLiving_block_110_MAC003977.csv', 'lowIncomeLiving_block_110_MAC004069.csv', 'lowIncomeLiving_block_111_MAC003860.csv', \n",
    " 'lowIncomeLiving_block_111_MAC004828.csv', 'luxuryLife_block_0_MAC003737.csv', 'luxuryLife_block_3_MAC004417.csv', \n",
    " 'luxuryLife_block_4_MAC003762.csv', 'luxuryLife_block_5_MAC004664.csv', 'luxuryLife_block_6_MAC003349.csv', \n",
    " 'steadfastCommunities_block_75_MAC000343.csv', 'steadfastCommunities_block_85_MAC002272.csv', 'steadfastCommunities_block_85_MAC003618.csv', \n",
    " 'steadfastCommunities_block_88_MAC001727.csv', 'steadfastCommunities_block_89_MAC001380.csv', 'stretchedSociety_block_107_MAC001672.csv', \n",
    " 'stretchedSociety_block_107_MAC001673.csv', 'stretchedSociety_block_107_MAC002426.csv', 'stretchedSociety_block_109_MAC000529.csv', \n",
    " 'stretchedSociety_block_94_MAC000870.csv', 'thrivingNeighbour_block_50_MAC002586.csv', 'thrivingNeighbour_block_66_MAC003655.csv', \n",
    " 'thrivingNeighbour_block_69_MAC003784.csv', 'thrivingNeighbour_block_70_MAC000360.csv', 'thrivingNeighbour_block_71_MAC002468.csv']"
   ]
  }
 ],
 "metadata": {
  "kernelspec": {
   "display_name": "Python 3",
   "language": "python",
   "name": "python3"
  },
  "language_info": {
   "codemirror_mode": {
    "name": "ipython",
    "version": 3
   },
   "file_extension": ".py",
   "mimetype": "text/x-python",
   "name": "python",
   "nbconvert_exporter": "python",
   "pygments_lexer": "ipython3",
   "version": "3.10.0rc2"
  }
 },
 "nbformat": 4,
 "nbformat_minor": 2
}
