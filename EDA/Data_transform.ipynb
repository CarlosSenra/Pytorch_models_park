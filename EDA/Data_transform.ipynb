{
 "cells": [
  {
   "cell_type": "code",
   "execution_count": 1,
   "metadata": {},
   "outputs": [],
   "source": [
    "import pandas as pd\n",
    "import numpy as np\n",
    "import random\n",
    "import os\n",
    "import functions_data_transformation as functions"
   ]
  },
  {
   "cell_type": "code",
   "execution_count": 5,
   "metadata": {},
   "outputs": [
    {
     "data": {
      "text/plain": [
       "[93]"
      ]
     },
     "execution_count": 5,
     "metadata": {},
     "output_type": "execute_result"
    }
   ],
   "source": [
    "weather_hourly = pd.read_csv(os.getcwd() + '\\\\' + 'weather_hourly_darksky.csv')\n",
    "weather_hourly.time = pd.to_datetime(weather_hourly.time)\n",
    "weather = weather_hourly[['time','temperature','windSpeed','precipType','icon','summary']]\n",
    "\n",
    "block_numbers_list = functions.get_random_blocks(num_blocks = 1, seed=84)\n",
    "block_numbers_list"
   ]
  },
  {
   "cell_type": "code",
   "execution_count": 6,
   "metadata": {},
   "outputs": [
    {
     "name": "stdout",
     "output_type": "stream",
     "text": [
      "File moved successfully from block_93_MAC005337.json to json_files\\block_93_MAC005337.json\n"
     ]
    }
   ],
   "source": [
    "for num in block_numbers_list:\n",
    "        df, house_select = functions.get_random_household(block_numer = num , seed = 42)\n",
    "        df_block = functions.transform_half_in_hourly(df)\n",
    "        df_block_weather = functions.add_weater_data(df_block,weather)\n",
    "        df_block_weather = functions.add_bool_weather_missing_values(df_block_weather)\n",
    "        df_holidays = functions.add_weekend_holidays(df_block_weather)\n",
    "\n",
    "        blocks, dict_labels = functions.feature_eng_function(df_holidays)\n",
    "        blocks = blocks.reset_index(drop=True).reset_index()\n",
    "        blocks = blocks.rename(columns={'index':'time_idx'})\n",
    "        blocks = blocks.drop(columns='time')\n",
    "\n",
    "        functions.save_json(dict_labels,house_select)\n",
    "        blocks.to_csv(f'dataframe_model\\{house_select}.csv',index=False)"
   ]
  },
  {
   "cell_type": "code",
   "execution_count": null,
   "metadata": {},
   "outputs": [],
   "source": []
  }
 ],
 "metadata": {
  "kernelspec": {
   "display_name": "Python 3",
   "language": "python",
   "name": "python3"
  },
  "language_info": {
   "codemirror_mode": {
    "name": "ipython",
    "version": 3
   },
   "file_extension": ".py",
   "mimetype": "text/x-python",
   "name": "python",
   "nbconvert_exporter": "python",
   "pygments_lexer": "ipython3",
   "version": "3.10.0"
  }
 },
 "nbformat": 4,
 "nbformat_minor": 2
}
