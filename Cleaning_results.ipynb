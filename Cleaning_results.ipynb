{
 "cells": [
  {
   "cell_type": "code",
   "execution_count": 1,
   "metadata": {},
   "outputs": [],
   "source": [
    "import pandas as pd\n",
    "import os \n",
    "import config"
   ]
  },
  {
   "cell_type": "code",
   "execution_count": 2,
   "metadata": {},
   "outputs": [],
   "source": [
    "list_csv = os.listdir(config.PATH_METRICS_VALUES_TFT_SELECT_FEATURES)"
   ]
  },
  {
   "cell_type": "code",
   "execution_count": 3,
   "metadata": {},
   "outputs": [
    {
     "data": {
      "text/plain": [
       "'c:\\\\Users\\\\rafin\\\\repositorios\\\\Pytorch_models_park\\\\Evaluation_Metrics\\\\TFT\\\\select_feature\\\\eval_metrics_block_14_MAC005355.csv'"
      ]
     },
     "execution_count": 3,
     "metadata": {},
     "output_type": "execute_result"
    }
   ],
   "source": [
    "config.PATH_METRICS_VALUES_TFT_SELECT_FEATURES + \"\\\\\" + list_csv[0]"
   ]
  },
  {
   "cell_type": "code",
   "execution_count": 4,
   "metadata": {},
   "outputs": [
    {
     "data": {
      "text/html": [
       "<div>\n",
       "<style scoped>\n",
       "    .dataframe tbody tr th:only-of-type {\n",
       "        vertical-align: middle;\n",
       "    }\n",
       "\n",
       "    .dataframe tbody tr th {\n",
       "        vertical-align: top;\n",
       "    }\n",
       "\n",
       "    .dataframe thead th {\n",
       "        text-align: right;\n",
       "    }\n",
       "</style>\n",
       "<table border=\"1\" class=\"dataframe\">\n",
       "  <thead>\n",
       "    <tr style=\"text-align: right;\">\n",
       "      <th></th>\n",
       "      <th>House_Hold</th>\n",
       "      <th>MAE</th>\n",
       "      <th>MAPE</th>\n",
       "      <th>SMAPE</th>\n",
       "      <th>RMSE</th>\n",
       "      <th>Time_execution</th>\n",
       "    </tr>\n",
       "  </thead>\n",
       "  <tbody>\n",
       "    <tr>\n",
       "      <th>0</th>\n",
       "      <td>BLOCK_14_MAC005355</td>\n",
       "      <td>0.266</td>\n",
       "      <td>0.183</td>\n",
       "      <td>0.179</td>\n",
       "      <td>0.402</td>\n",
       "      <td>41.66s</td>\n",
       "    </tr>\n",
       "  </tbody>\n",
       "</table>\n",
       "</div>"
      ],
      "text/plain": [
       "           House_Hold    MAE   MAPE  SMAPE   RMSE Time_execution\n",
       "0  BLOCK_14_MAC005355  0.266  0.183  0.179  0.402         41.66s"
      ]
     },
     "execution_count": 4,
     "metadata": {},
     "output_type": "execute_result"
    }
   ],
   "source": [
    "pd.read_csv(config.PATH_METRICS_VALUES_TFT_SELECT_FEATURES + \"\\\\\" + list_csv[0])"
   ]
  },
  {
   "cell_type": "code",
   "execution_count": 5,
   "metadata": {},
   "outputs": [],
   "source": [
    "def cleaning_eval_metrics_results(path_origin, path_destiny,model_name):\n",
    "    list_csv = os.listdir(path_origin)\n",
    "    df_list = []\n",
    "    for csv in list_csv:\n",
    "        df_list.append(pd.read_csv(path_origin + \"\\\\\" + csv))\n",
    "    concat_df = pd.concat(df_list)\n",
    "    concat_df.to_csv(path_destiny + \"\\\\\" + f\"{model_name}_metrics_results.csv\",index=False)\n",
    "    \n",
    "    "
   ]
  },
  {
   "cell_type": "code",
   "execution_count": 29,
   "metadata": {},
   "outputs": [
    {
     "data": {
      "text/html": [
       "<div>\n",
       "<style scoped>\n",
       "    .dataframe tbody tr th:only-of-type {\n",
       "        vertical-align: middle;\n",
       "    }\n",
       "\n",
       "    .dataframe tbody tr th {\n",
       "        vertical-align: top;\n",
       "    }\n",
       "\n",
       "    .dataframe thead th {\n",
       "        text-align: right;\n",
       "    }\n",
       "</style>\n",
       "<table border=\"1\" class=\"dataframe\">\n",
       "  <thead>\n",
       "    <tr style=\"text-align: right;\">\n",
       "      <th></th>\n",
       "      <th>House_Hold</th>\n",
       "      <th>MAE</th>\n",
       "      <th>MAPE</th>\n",
       "      <th>SMAPE</th>\n",
       "      <th>RMSE</th>\n",
       "      <th>Time_execution</th>\n",
       "    </tr>\n",
       "  </thead>\n",
       "  <tbody>\n",
       "    <tr>\n",
       "      <th>0</th>\n",
       "      <td>BLOCK_14_MAC005355</td>\n",
       "      <td>0.266</td>\n",
       "      <td>0.183</td>\n",
       "      <td>0.179</td>\n",
       "      <td>0.402</td>\n",
       "      <td>41.66s</td>\n",
       "    </tr>\n",
       "    <tr>\n",
       "      <th>0</th>\n",
       "      <td>BLOCK_35_MAC004062</td>\n",
       "      <td>0.092</td>\n",
       "      <td>0.510</td>\n",
       "      <td>0.315</td>\n",
       "      <td>0.115</td>\n",
       "      <td>55.04s</td>\n",
       "    </tr>\n",
       "    <tr>\n",
       "      <th>0</th>\n",
       "      <td>BLOCK_3_MAC004417</td>\n",
       "      <td>0.587</td>\n",
       "      <td>0.686</td>\n",
       "      <td>0.752</td>\n",
       "      <td>0.865</td>\n",
       "      <td>54.20s</td>\n",
       "    </tr>\n",
       "    <tr>\n",
       "      <th>0</th>\n",
       "      <td>BLOCK_81_MAC004113</td>\n",
       "      <td>0.163</td>\n",
       "      <td>0.455</td>\n",
       "      <td>0.425</td>\n",
       "      <td>0.375</td>\n",
       "      <td>69.88s</td>\n",
       "    </tr>\n",
       "    <tr>\n",
       "      <th>0</th>\n",
       "      <td>BLOCK_94_MAC003037</td>\n",
       "      <td>0.043</td>\n",
       "      <td>108758.960</td>\n",
       "      <td>0.538</td>\n",
       "      <td>0.057</td>\n",
       "      <td>38.97s</td>\n",
       "    </tr>\n",
       "  </tbody>\n",
       "</table>\n",
       "</div>"
      ],
      "text/plain": [
       "           House_Hold    MAE        MAPE  SMAPE   RMSE Time_execution\n",
       "0  BLOCK_14_MAC005355  0.266       0.183  0.179  0.402         41.66s\n",
       "0  BLOCK_35_MAC004062  0.092       0.510  0.315  0.115         55.04s\n",
       "0   BLOCK_3_MAC004417  0.587       0.686  0.752  0.865         54.20s\n",
       "0  BLOCK_81_MAC004113  0.163       0.455  0.425  0.375         69.88s\n",
       "0  BLOCK_94_MAC003037  0.043  108758.960  0.538  0.057         38.97s"
      ]
     },
     "execution_count": 29,
     "metadata": {},
     "output_type": "execute_result"
    }
   ],
   "source": [
    "cleaning_eval_metrics_results(config.PATH_METRICS_VALUES_TFT_SELECT_FEATURES)"
   ]
  },
  {
   "cell_type": "code",
   "execution_count": 6,
   "metadata": {},
   "outputs": [],
   "source": [
    "cleaning_eval_metrics_results(config.PATH_METRICS_VALUES_TFT_SELECT_FEATURES,\n",
    "                              config.PATH_RESULS_TFT_SELECT_FEATURES, \n",
    "                              \"TFT\")"
   ]
  },
  {
   "cell_type": "code",
   "execution_count": 11,
   "metadata": {},
   "outputs": [],
   "source": [
    "def cleaning_attention_results(path_origin, path_destiny):\n",
    "    list_csv = os.listdir(path_origin)\n",
    "    df_encoder_list = []\n",
    "    df_decoder_list = []\n",
    "    for csv in list_csv:\n",
    "        if csv.split(\"_\")[0] == 'decoder':\n",
    "            df_encoder_list.append(pd.read_csv(path_origin + \"\\\\\" + csv))\n",
    "        else:\n",
    "            df_decoder_list.append(pd.read_csv(path_origin + \"\\\\\" + csv))\n",
    "    concat_df_encoder = pd.concat(df_encoder_list)\n",
    "    concat_df_decoder = pd.concat(df_decoder_list)\n",
    "    concat_df_encoder.to_csv(path_destiny + \"\\\\\" + \"encoder_attention_results.csv\",index=False)\n",
    "    concat_df_decoder.to_csv(path_destiny + \"\\\\\" + \"decoder_attention_results.csv\",index=False)"
   ]
  },
  {
   "cell_type": "code",
   "execution_count": 12,
   "metadata": {},
   "outputs": [],
   "source": [
    "cleaning_attention_results(config.PATH_ATTENTION_SELECT_FEATURES,\n",
    "                           config.PATH_RESULS_TFT_SELECT_FEATURES)"
   ]
  },
  {
   "cell_type": "code",
   "execution_count": null,
   "metadata": {},
   "outputs": [],
   "source": []
  }
 ],
 "metadata": {
  "kernelspec": {
   "display_name": "Python 3",
   "language": "python",
   "name": "python3"
  },
  "language_info": {
   "codemirror_mode": {
    "name": "ipython",
    "version": 3
   },
   "file_extension": ".py",
   "mimetype": "text/x-python",
   "name": "python",
   "nbconvert_exporter": "python",
   "pygments_lexer": "ipython3",
   "version": "3.10.0rc2"
  }
 },
 "nbformat": 4,
 "nbformat_minor": 2
}
